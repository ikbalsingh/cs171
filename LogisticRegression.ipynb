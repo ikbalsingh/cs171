{
  "nbformat": 4,
  "nbformat_minor": 0,
  "metadata": {
    "colab": {
      "provenance": []
    },
    "kernelspec": {
      "name": "python3",
      "display_name": "Python 3"
    },
    "language_info": {
      "name": "python"
    }
  },
  "cells": [
    {
      "cell_type": "code",
      "source": [
        "import numpy as np\n",
        "import random\n",
        "import pandas as pd\n",
        "\n",
        "#Hamed Sayed, hamed.sayed@sjsu.edu, 014974219\n",
        "#Ikbal Singh Dhanjal,  ikbalsinghgurdevsingh.dhanjal@sjsu.edu, 017418804\n",
        "class LogisticRegression:\n",
        "\n",
        "    def __init__(self, rate = 0.01, iterations = 200):\n",
        "        #/* Constructor initializes the rate and iterations. **/\n",
        "        self.rate = rate\n",
        "        self.iterations = iterations\n",
        "\n",
        "    #sigmoid function\n",
        "    def sigmoid(self, x):\n",
        "        return 1/(1+np.exp(-x))  #σ(x)= 1/(1+e^(-x))\n",
        "\n",
        "    #Helper function for prediction\n",
        "    #Takes a test instance as input and outputs the probability of the label being 1\n",
        "    #This function calls sigmoid\n",
        "    def helper(self, x):\n",
        "        temp = np.dot(x, self.weight)\n",
        "        probability = self.sigmoid(temp)    #σ(x)= sigmoid(wx)\n",
        "        return probability\n",
        "\n",
        "\n",
        "    # Takes a test instance as input and outputs the predicted label\n",
        "    # This function should call Helper function\n",
        "    def predict(self, x):\n",
        "        prediction = self.helper(x)\n",
        "        if prediction < 0.5:\n",
        "          return 0\n",
        "        else:\n",
        "          return 1    #PREDICTED CLASS = 1 iff Probability of class 1 ≥ 0.5\n",
        "\n",
        "    # calculate log loss -> -1/m * sum [y log h + (1-y) log(1-h)]\n",
        "    def compute_loss(self, X, y):\n",
        "        predicted_values = np.apply_along_axis(lambda row: self.helper(row), axis=1, arr=X)\n",
        "        log_loss = (-1 / X.shape[0] )* np.sum((y * np.log(predicted_values)) + ((1-y) * np.log(1-predicted_values)))\n",
        "        return log_loss\n",
        "\n",
        "    #Train the Logistic Regression in a function using Stochastic Gradient Descent\n",
        "    #Also compute the log-oss in this function using matplot\n",
        "    def train(self, X, y):\n",
        "\n",
        "        losses = [self.compute_loss(X, y)]\n",
        "        for i in range(self.iterations):\n",
        "            m = X.shape[0]\n",
        "\n",
        "            # weight updates using stochastic gradient descent -> w = w - (alpha * (h-y) * x[i])\n",
        "            for j in range(m):\n",
        "                row_vector = X[j]\n",
        "                pred = self.helper(row_vector)\n",
        "                error = pred - y[j]\n",
        "                self.weight = self.weight - (self.rate * error * row_vector[:, np.newaxis])\n",
        "\n",
        "            losses.append(self.compute_loss(X,y))\n",
        "\n",
        "        return self.weight, losses\n",
        "\n",
        "\n",
        "    #This function takes a test set as input, call the predict function to predict a label for it, and prints the accuracy, Precision, Recall,\n",
        "    #and F1 score of the positive class and negative class and the confusion matrix\n",
        "    def test(self, X_test, y_test):\n",
        "        # X_test = np.hstack((np.ones((X_test.shape[0], 1)), X_test))  # Add a column of ones (bias term)\n",
        "        y_pred = [self.predict(x) for x in X_test]\n",
        "\n",
        "        # Count true positives, false positives, false negatives, and true negatives\n",
        "        FP = sum((y_pred[i] == 1) and (y_test[i] == 0) for i in range(len(y_pred)))\n",
        "        FN = sum((y_pred[i] == 0) and (y_test[i] == 1) for i in range(len(y_pred)))\n",
        "        TP = sum((y_pred[i] == 1) and (y_test[i] == 1) for i in range(len(y_pred)))\n",
        "        TN = sum((y_pred[i] == 0) and (y_test[i] == 0) for i in range(len(y_pred)))\n",
        "\n",
        "        # Calculate accuracy, precision, and recall\n",
        "        accuracy = (TP+TN)/(TP+TN+FP+FN)\n",
        "        precision = TP / (TP + FP)\n",
        "        recall = TP / (TP + FN)\n",
        "\n",
        "        neg_precision = TN / (TN + FN)\n",
        "        neg_recall = TN / (TN + FP)\n",
        "\n",
        "        # Calculate the F1 score for positive and negative classes\n",
        "        f1_positive = (2 * precision * recall)/ (precision + recall)\n",
        "        f1_negative = (2 * (TN / (TN + FN)) * (TN / (TN + FP))) / ((TN / (TN + FN)) + (TN / (TN + FP))) #opposite of f1 positive\n",
        "\n",
        "        print(\"Accuracy: \" + str(accuracy))\n",
        "        print(\"Precision (Positive class): \" + str(precision))\n",
        "        print(\"Recall (Positive class): \" + str(recall))\n",
        "        print(\"Precision (Negative class): \" + str(neg_precision))\n",
        "        print(\"Recall (Negative class): \" + str(neg_recall))\n",
        "        print(\"F1 Score (Positive Class): \" + str(f1_positive))\n",
        "        print(\"F1 Score (Negative Class): \" + str(f1_negative))\n",
        "\n",
        "        # Print the confusion matrix\n",
        "        print(\"Confusion Matrix:\")\n",
        "        print(\"True Negative (TN):\", TN)\n",
        "        print(\"False Positive (FP):\", FP)\n",
        "        print(\"False Negative (FN):\", FN)\n",
        "        print(\"True Positive (TP):\", TP)\n",
        "\n",
        "\n",
        "    def read_dataset(self, filename):\n",
        "        #read data set function\n",
        "        df = pd.read_csv(filename)\n",
        "\n",
        "        df_features = df.loc[:, df.columns != 'label']\n",
        "        df_label = df.loc[:, df.columns == 'label']\n",
        "\n",
        "        X  = np.array(df_features)\n",
        "        y = np.array(df_label)\n",
        "\n",
        "        self.weight = np.zeros((X.shape[1], 1))\n",
        "        return X,y\n",
        "\n",
        "    def read_test_data_set(self, filename):\n",
        "        #read data set function\n",
        "        df = pd.read_csv(filename)\n",
        "\n",
        "        df_features = df.loc[:, df.columns != 'label']\n",
        "        df_label = df.loc[:, df.columns == 'label']\n",
        "\n",
        "        X  = np.array(df_features)\n",
        "        y = np.array(df_label)\n",
        "\n",
        "        return X,y"
      ],
      "metadata": {
        "id": "ZU9VLZIYkhuc"
      },
      "execution_count": null,
      "outputs": []
    },
    {
      "cell_type": "code",
      "source": [
        "log_regression_classifier = LogisticRegression(0.01, 200)\n",
        "X_train,y_train = log_regression_classifier.read_dataset('train-1.csv')"
      ],
      "metadata": {
        "id": "NN4CHGD1ZF_v"
      },
      "execution_count": null,
      "outputs": []
    },
    {
      "cell_type": "code",
      "source": [
        "weights, losses = log_regression_classifier.train(X=X_train, y=y_train)"
      ],
      "metadata": {
        "id": "W-fYztdvKjFk"
      },
      "execution_count": null,
      "outputs": []
    },
    {
      "cell_type": "code",
      "source": [
        "import matplotlib.pyplot as plt\n",
        "plt.plot(losses)\n",
        "plt.title(\"Log loss vs iterations\")\n",
        "plt.xlabel(\"Iterations\")\n",
        "plt.ylabel(\"Log loss\")\n",
        "\n",
        "plt.show()"
      ],
      "metadata": {
        "id": "Q_6xwJAAPcxJ",
        "colab": {
          "base_uri": "https://localhost:8080/",
          "height": 472
        },
        "outputId": "db759621-b294-4f22-9387-5a480d28925e"
      },
      "execution_count": null,
      "outputs": [
        {
          "output_type": "display_data",
          "data": {
            "text/plain": [
              "<Figure size 640x480 with 1 Axes>"
            ],
            "image/png": "[encoded data removed]"
          },
          "metadata": {}
        }
      ]
    },
    {
      "cell_type": "code",
      "source": [
        "X_test,y_test = log_regression_classifier.read_test_data_set('test-1.csv')\n",
        "print(\"---  Train set ---\")\n",
        "log_regression_classifier.test(X_train, y_train)\n",
        "print(\"\\n\", \"---  Test set ---\")\n",
        "log_regression_classifier.test(X_test, y_test)"
      ],
      "metadata": {
        "id": "OhrbZRzbGSJ2",
        "colab": {
          "base_uri": "https://localhost:8080/"
        },
        "outputId": "76c3e0e3-6091-4259-e3ac-8ffbbe234e86"
      },
      "execution_count": null,
      "outputs": [
        {
          "output_type": "stream",
          "name": "stdout",
          "text": [
            "---  Train set ---\n",
            "Accuracy: [0.98183449]\n",
            "Precision (Positive class): [0.89026275]\n",
            "Recall (Positive class): [0.98293515]\n",
            "Precision (Negative class): [0.99737671]\n",
            "Recall (Negative class): [0.98166796]\n",
            "F1 Score (Positive Class): [0.93430657]\n",
            "F1 Score (Negative Class): [0.98945999]\n",
            "Confusion Matrix:\n",
            "True Negative (TN): [3802]\n",
            "False Positive (FP): [71]\n",
            "False Negative (FN): [10]\n",
            "True Positive (TP): [576]\n",
            "\n",
            " ---  Test set ---\n",
            "Accuracy: [0.95605381]\n",
            "Precision (Positive class): [0.81111111]\n",
            "Recall (Positive class): [0.9068323]\n",
            "Precision (Negative class): [0.98395722]\n",
            "Recall (Negative class): [0.96436059]\n",
            "F1 Score (Positive Class): [0.85630499]\n",
            "F1 Score (Negative Class): [0.97406035]\n",
            "Confusion Matrix:\n",
            "True Negative (TN): [920]\n",
            "False Positive (FP): [34]\n",
            "False Negative (FN): [15]\n",
            "True Positive (TP): [146]\n"
          ]
        }
      ]
    },
    {
      "cell_type": "code",
      "source": [],
      "metadata": {
        "id": "GIK51cgaKc18"
      },
      "execution_count": null,
      "outputs": []
    }
  ]
}